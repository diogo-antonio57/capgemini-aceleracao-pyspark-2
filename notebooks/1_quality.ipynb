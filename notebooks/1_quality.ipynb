{
 "cells": [
  {
   "cell_type": "code",
   "execution_count": 1,
   "metadata": {},
   "outputs": [
    {
     "name": "stdout",
     "output_type": "stream",
     "text": [
      "Requirement already satisfied: pyspark in c:\\users\\emerjuni\\anaconda3\\lib\\site-packages (3.2.1)\n",
      "Requirement already satisfied: py4j==0.10.9.3 in c:\\users\\emerjuni\\anaconda3\\lib\\site-packages (from pyspark) (0.10.9.3)\n",
      "Requirement already satisfied: findspark in c:\\users\\emerjuni\\anaconda3\\lib\\site-packages (2.0.1)\n"
     ]
    }
   ],
   "source": [
    "# Installing required packages\n",
    "!pip install pyspark\n",
    "!pip install findspark"
   ]
  },
  {
   "cell_type": "code",
   "execution_count": 1,
   "metadata": {},
   "outputs": [],
   "source": [
    "import findspark\n",
    "findspark.init()"
   ]
  },
  {
   "cell_type": "code",
   "execution_count": 2,
   "metadata": {},
   "outputs": [],
   "source": [
    "# PySpark is the Spark API for Python. In this lab, we use PySpark to initialize the spark context. \n",
    "from pyspark.sql.types import StructType,StructField, StringType, IntegerType, DoubleType\n",
    "from pyspark import SparkContext, SparkConf\n",
    "from pyspark.sql import SparkSession"
   ]
  },
  {
   "cell_type": "code",
   "execution_count": 3,
   "metadata": {},
   "outputs": [],
   "source": [
    "from pyspark.sql.types import DoubleType\n",
    "from pyspark.sql.functions import col, udf, lit, length, when, concat"
   ]
  },
  {
   "cell_type": "code",
   "execution_count": 4,
   "metadata": {},
   "outputs": [],
   "source": [
    "# Creating a spark context class\n",
    "sc = SparkContext()\n",
    "\n",
    "# Creating a spark session\n",
    "spark = SparkSession \\\n",
    "    .builder \\\n",
    "    .appName(\"Prática da semana 2 - Aceleração Pyspark\") \\\n",
    "    .config(\"spark.some.config.option\", \"some-value\") \\\n",
    "    .config(\"spark.memory.offHeap.enabled\",\"true\") \\\n",
    "    .config(\"spark.memory.offHeap.size\",\"10g\")\\\n",
    "    .getOrCreate()"
   ]
  },
  {
   "cell_type": "code",
   "execution_count": 5,
   "metadata": {},
   "outputs": [
    {
     "data": {
      "text/html": [
       "\n",
       "            <div>\n",
       "                <p><b>SparkSession - in-memory</b></p>\n",
       "                \n",
       "        <div>\n",
       "            <p><b>SparkContext</b></p>\n",
       "\n",
       "            <p><a href=\"http://LBR-PE0808ZD.corp.capgemini.com:4040\">Spark UI</a></p>\n",
       "\n",
       "            <dl>\n",
       "              <dt>Version</dt>\n",
       "                <dd><code>v3.2.1</code></dd>\n",
       "              <dt>Master</dt>\n",
       "                <dd><code>local[*]</code></dd>\n",
       "              <dt>AppName</dt>\n",
       "                <dd><code>pyspark-shell</code></dd>\n",
       "            </dl>\n",
       "        </div>\n",
       "        \n",
       "            </div>\n",
       "        "
      ],
      "text/plain": [
       "<pyspark.sql.session.SparkSession at 0x231e82e43d0>"
      ]
     },
     "execution_count": 5,
     "metadata": {},
     "output_type": "execute_result"
    }
   ],
   "source": [
    "spark"
   ]
  },
  {
   "cell_type": "markdown",
   "metadata": {},
   "source": [
    "## Airport - Perguntas\n"
   ]
  },
  {
   "cell_type": "markdown",
   "metadata": {},
   "source": [
    "#### Pergunta 1"
   ]
  },
  {
   "cell_type": "code",
   "execution_count": 31,
   "metadata": {
    "scrolled": true
   },
   "outputs": [
    {
     "name": "stdout",
     "output_type": "stream",
     "text": [
      "+---+-----------------------------+----------+-----------+----+----+---+\n",
      "|faa|name                         |lat       |lon        |alt |tz  |dst|\n",
      "+---+-----------------------------+----------+-----------+----+----+---+\n",
      "|04G|Lansdowne Airport            |41.1304722|-80.6195833|1044|-5.0|A  |\n",
      "|06A|Moton Field Municipal Airport|32.4605722|-85.6800278|264 |-5.0|A  |\n",
      "|06C|Schaumburg Regional          |41.9893408|-88.1012428|801 |-6.0|A  |\n",
      "|06N|Randall Airport              |41.431912 |-74.3915611|523 |-5.0|A  |\n",
      "|09J|Jekyll Island Airport        |31.0744722|-81.4277778|11  |-4.0|A  |\n",
      "+---+-----------------------------+----------+-----------+----+----+---+\n",
      "only showing top 5 rows\n",
      "\n"
     ]
    }
   ],
   "source": [
    "schema_air = (StructType()\n",
    "            .add('faa', StringType(), True)\n",
    "            .add('name', StringType(), True)\n",
    "            .add('lat', DoubleType(), True)\n",
    "            .add('lon', DoubleType(), True)\n",
    "            .add('alt', IntegerType(), True)\n",
    "            .add('tz', DoubleType(), True)\n",
    "            .add('dst', StringType(), True)\n",
    "        )\n",
    "\n",
    "airports = spark.read.format('csv')\\\n",
    "    .option('header', True)\\\n",
    "    .schema(schema_air)\\\n",
    "    .load('../data/airports.csv', header = True)\n",
    "\n",
    "airports.show(5, False)"
   ]
  },
  {
   "cell_type": "code",
   "execution_count": 32,
   "metadata": {},
   "outputs": [
    {
     "name": "stdout",
     "output_type": "stream",
     "text": [
      "+---+--------------------+----------------+-----------------+----+----+---+\n",
      "|faa|                name|             lat|              lon| alt|  tz|dst|\n",
      "+---+--------------------+----------------+-----------------+----+----+---+\n",
      "|04G|   Lansdowne Airport|      41.1304722|      -80.6195833|1044|-5.0|  A|\n",
      "|06A|Moton Field Munic...|      32.4605722|      -85.6800278| 264|-5.0|  A|\n",
      "|06C| Schaumburg Regional|      41.9893408|      -88.1012428| 801|-6.0|  A|\n",
      "|06N|     Randall Airport|       41.431912|      -74.3915611| 523|-5.0|  A|\n",
      "|09J|Jekyll Island Air...|      31.0744722|      -81.4277778|  11|-4.0|  A|\n",
      "|0A9|Elizabethton Muni...|      36.3712222|      -82.1734167|1593|-4.0|  A|\n",
      "|0G6|Williams County A...|      41.4673056|      -84.5067778| 730|-5.0|  A|\n",
      "|0G7|Finger Lakes Regi...|      42.8835647|      -76.7812318| 492|-5.0|  A|\n",
      "|0P2|Shoestring Aviati...|      39.7948244|      -76.6471914|1000|-5.0|  U|\n",
      "|0S9|Jefferson County ...|      48.0538086|     -122.8106436| 108|-8.0|  A|\n",
      "|0W3|Harford County Ai...|      39.5668378|      -76.2024028| 409|-5.0|  A|\n",
      "|10C|  Galt Field Airport|      42.4028889|      -88.3751111| 875|-6.0|  U|\n",
      "|17G|Port Bucyrus-Craw...|      40.7815556|      -82.9748056|1003|-5.0|  A|\n",
      "|19A|Jackson County Ai...|      34.1758638|      -83.5615972| 951|-4.0|  U|\n",
      "|1A3|Martin Campbell F...|      35.0158056|      -84.3468333|1789|-4.0|  A|\n",
      "|1B9| Mansfield Municipal|      42.0001331|      -71.1967714| 122|-5.0|  A|\n",
      "|1C9|Frazier Lake Airpark|54.0133333333333|-124.768333333333| 152|-8.0|  A|\n",
      "|1CS|Clow Internationa...|      41.6959744|      -88.1292306| 670|-6.0|  U|\n",
      "|1G3|  Kent State Airport|      41.1513889|      -81.4151111|1134|-4.0|  A|\n",
      "|1OH|     Fortman Airport|      40.5553253|      -84.3866186| 885|-5.0|  U|\n",
      "+---+--------------------+----------------+-----------------+----+----+---+\n",
      "only showing top 20 rows\n",
      "\n"
     ]
    }
   ],
   "source": [
    "airports.show()"
   ]
  },
  {
   "cell_type": "code",
   "execution_count": 33,
   "metadata": {},
   "outputs": [
    {
     "name": "stdout",
     "output_type": "stream",
     "text": [
      "root\n",
      " |-- faa: string (nullable = true)\n",
      " |-- name: string (nullable = true)\n",
      " |-- lat: double (nullable = true)\n",
      " |-- lon: double (nullable = true)\n",
      " |-- alt: integer (nullable = true)\n",
      " |-- tz: double (nullable = true)\n",
      " |-- dst: string (nullable = true)\n",
      "\n"
     ]
    }
   ],
   "source": [
    "airports.printSchema()"
   ]
  },
  {
   "cell_type": "code",
   "execution_count": 34,
   "metadata": {},
   "outputs": [],
   "source": [
    "a1 = airports.withColumn('qa_faa', \n",
    "                         when((((~airports.faa.rlike('^\\w{3,5}$'))) |\n",
    "                               (airports.faa.rlike('^\\d{1,}$')) | \n",
    "                               (airports.faa.rlike('^\\D{1,}$'))), 'F')\n",
    "                        .when((airports.faa == '') | \n",
    "                              (airports.faa == ' ') | \n",
    "                              (airports.faa.isNull()), 'M'))"
   ]
  },
  {
   "cell_type": "code",
   "execution_count": 35,
   "metadata": {},
   "outputs": [
    {
     "name": "stdout",
     "output_type": "stream",
     "text": [
      "+---+------+\n",
      "|faa|qa_faa|\n",
      "+---+------+\n",
      "|369|     F|\n",
      "|AAF|     F|\n",
      "|ABE|     F|\n",
      "|ABI|     F|\n",
      "|ABL|     F|\n",
      "|ABQ|     F|\n",
      "|ABR|     F|\n",
      "|ABY|     F|\n",
      "|ACK|     F|\n",
      "|ACT|     F|\n",
      "|ACV|     F|\n",
      "|ACY|     F|\n",
      "|ADK|     F|\n",
      "|ADM|     F|\n",
      "|ADQ|     F|\n",
      "|ADS|     F|\n",
      "|ADW|     F|\n",
      "|AET|     F|\n",
      "|AEX|     F|\n",
      "|AFE|     F|\n",
      "+---+------+\n",
      "only showing top 20 rows\n",
      "\n"
     ]
    }
   ],
   "source": [
    "a1.select(a1.faa, a1.qa_faa)\\\n",
    "    .filter(a1.qa_faa.isNotNull())\\\n",
    "    .show()"
   ]
  },
  {
   "cell_type": "markdown",
   "metadata": {},
   "source": [
    "#### Pergunta 2"
   ]
  },
  {
   "cell_type": "code",
   "execution_count": 36,
   "metadata": {},
   "outputs": [],
   "source": [
    "a2 = a1.withColumn('qa_name', \n",
    "                   when((a1.name == '') | \n",
    "                        (a1.name == ' ') | \n",
    "                        (a1.name.isNull()), 'M'))"
   ]
  },
  {
   "cell_type": "code",
   "execution_count": 37,
   "metadata": {},
   "outputs": [
    {
     "name": "stdout",
     "output_type": "stream",
     "text": [
      "+----+-------+\n",
      "|name|qa_name|\n",
      "+----+-------+\n",
      "+----+-------+\n",
      "\n"
     ]
    }
   ],
   "source": [
    "a2.select(a2.name, a2.qa_name)\\\n",
    "    .filter(a2.qa_name.isNotNull())\\\n",
    "    .show()"
   ]
  },
  {
   "cell_type": "markdown",
   "metadata": {},
   "source": [
    "#### Pergunta 3"
   ]
  },
  {
   "cell_type": "code",
   "execution_count": 38,
   "metadata": {},
   "outputs": [],
   "source": [
    "a3 = a2.withColumn('qa_lat', \n",
    "                   when((a2.lat == '') | \n",
    "                        (a2.lat == ' ') | \n",
    "                        (a2.lat.isNull()), 'M')\n",
    "                  .when(~a2.lat.between(-180, 180), 'I')\n",
    "                  .when(a2.lat.rlike('(?=.*[A-z])'), 'A'))"
   ]
  },
  {
   "cell_type": "code",
   "execution_count": 39,
   "metadata": {},
   "outputs": [
    {
     "name": "stdout",
     "output_type": "stream",
     "text": [
      "+---+------+\n",
      "|lat|qa_lat|\n",
      "+---+------+\n",
      "+---+------+\n",
      "\n"
     ]
    }
   ],
   "source": [
    "a3.select(a3.lat, a3.qa_lat)\\\n",
    "    .filter(a3.qa_lat.isNotNull())\\\n",
    "    .show()"
   ]
  },
  {
   "cell_type": "markdown",
   "metadata": {},
   "source": [
    "#### Pergunta 4"
   ]
  },
  {
   "cell_type": "code",
   "execution_count": 40,
   "metadata": {},
   "outputs": [],
   "source": [
    "a4 = a3.withColumn('qa_lon', \n",
    "                   when((a3.lon == '') | \n",
    "                        (a3.lon == ' ') | \n",
    "                        (a3.lon.isNull()), 'M')\n",
    "                  .when(~a3.lon.between(-180, 180), 'I')\n",
    "                  .when(a3.lon.rlike('(?=.*[A-z])'), 'A'))"
   ]
  },
  {
   "cell_type": "code",
   "execution_count": 41,
   "metadata": {},
   "outputs": [
    {
     "name": "stdout",
     "output_type": "stream",
     "text": [
      "+---+------+\n",
      "|lon|qa_lon|\n",
      "+---+------+\n",
      "+---+------+\n",
      "\n"
     ]
    }
   ],
   "source": [
    "a4.select(a4.lon, a4.qa_lon)\\\n",
    "    .filter(a4.qa_lon.isNotNull())\\\n",
    "    .show()"
   ]
  },
  {
   "cell_type": "markdown",
   "metadata": {},
   "source": [
    "#### Pergunta 5"
   ]
  },
  {
   "cell_type": "code",
   "execution_count": 42,
   "metadata": {},
   "outputs": [],
   "source": [
    "a5 = a4.withColumn('qa_alt', \n",
    "                   when(a4.alt < 0, 'I')\n",
    "                  .when((a4.alt == '') | \n",
    "                        (a4.alt == ' ') | \n",
    "                        (a4.alt.isNull()), 'M')\n",
    "                  .when(a4.lon.rlike('(?=.*[A-z])'), 'A'))"
   ]
  },
  {
   "cell_type": "code",
   "execution_count": 43,
   "metadata": {
    "scrolled": true
   },
   "outputs": [
    {
     "name": "stdout",
     "output_type": "stream",
     "text": [
      "+---+------+\n",
      "|alt|qa_alt|\n",
      "+---+------+\n",
      "|-54|     I|\n",
      "|-42|     I|\n",
      "+---+------+\n",
      "\n"
     ]
    }
   ],
   "source": [
    "a5.select(a5.alt, a5.qa_alt)\\\n",
    "    .filter(a5.qa_alt.isNotNull())\\\n",
    "    .show()"
   ]
  },
  {
   "cell_type": "markdown",
   "metadata": {},
   "source": [
    "### Pergunta 6"
   ]
  },
  {
   "cell_type": "code",
   "execution_count": 44,
   "metadata": {},
   "outputs": [],
   "source": [
    "a6 = a5.withColumn('qa_tz', \n",
    "                   when((a5.tz == '') | \n",
    "                        (a5.tz == ' ') | \n",
    "                        (a5.tz.isNull()), 'M')\n",
    "                  .when(~a5.tz.between(-11, 14), 'I')\n",
    "                  .when(a5.tz.cast('int').isNull(), 'A'))"
   ]
  },
  {
   "cell_type": "code",
   "execution_count": 45,
   "metadata": {},
   "outputs": [
    {
     "name": "stdout",
     "output_type": "stream",
     "text": [
      "+---+-----+\n",
      "| tz|qa_tz|\n",
      "+---+-----+\n",
      "+---+-----+\n",
      "\n"
     ]
    }
   ],
   "source": [
    "a6.select(a6.tz, a6.qa_tz)\\\n",
    "    .filter(a6.qa_tz.isNotNull())\\\n",
    "    .show()"
   ]
  },
  {
   "cell_type": "markdown",
   "metadata": {},
   "source": [
    "### Pergunta 7"
   ]
  },
  {
   "cell_type": "code",
   "execution_count": 46,
   "metadata": {},
   "outputs": [],
   "source": [
    "a7 = a6.withColumn('qa_dst', \n",
    "                   when((a6.dst == '') | \n",
    "                        (a6.dst == ' ') | \n",
    "                        (a6.dst.isNull()), 'M')\n",
    "                  .when(~airports.dst.rlike('[EASOZNU]{1}'), 'C')\n",
    "                  .when(airports.dst.rlike('[0-9]'), 'N'))"
   ]
  },
  {
   "cell_type": "code",
   "execution_count": 47,
   "metadata": {},
   "outputs": [
    {
     "name": "stdout",
     "output_type": "stream",
     "text": [
      "+---+------+\n",
      "|dst|qa_dst|\n",
      "+---+------+\n",
      "+---+------+\n",
      "\n"
     ]
    }
   ],
   "source": [
    "a7.select(a7.dst, a7.qa_dst)\\\n",
    "    .filter(a7.qa_dst.isNotNull())\\\n",
    "    .show()"
   ]
  },
  {
   "cell_type": "markdown",
   "metadata": {},
   "source": [
    "### Salvando em parquet"
   ]
  },
  {
   "cell_type": "code",
   "execution_count": 96,
   "metadata": {},
   "outputs": [],
   "source": [
    "a7.write.parquet(\n",
    "path = '../data/airports',\n",
    "mode = 'overwrite'\n",
    ")"
   ]
  },
  {
   "cell_type": "markdown",
   "metadata": {},
   "source": [
    "### Carregando parquet"
   ]
  },
  {
   "cell_type": "code",
   "execution_count": 97,
   "metadata": {},
   "outputs": [],
   "source": [
    "airports_parquet = spark.read.parquet('../data/airports')"
   ]
  },
  {
   "cell_type": "code",
   "execution_count": 50,
   "metadata": {},
   "outputs": [
    {
     "name": "stdout",
     "output_type": "stream",
     "text": [
      "+---+--------------------+----------+------------+----+----+---+------+-------+------+------+------+-----+------+\n",
      "|faa|                name|       lat|         lon| alt|  tz|dst|qa_faa|qa_name|qa_lat|qa_lon|qa_alt|qa_tz|qa_dst|\n",
      "+---+--------------------+----------+------------+----+----+---+------+-------+------+------+------+-----+------+\n",
      "|04G|   Lansdowne Airport|41.1304722| -80.6195833|1044|-5.0|  A|  null|   null|  null|  null|  null| null|  null|\n",
      "|06A|Moton Field Munic...|32.4605722| -85.6800278| 264|-5.0|  A|  null|   null|  null|  null|  null| null|  null|\n",
      "|06C| Schaumburg Regional|41.9893408| -88.1012428| 801|-6.0|  A|  null|   null|  null|  null|  null| null|  null|\n",
      "|06N|     Randall Airport| 41.431912| -74.3915611| 523|-5.0|  A|  null|   null|  null|  null|  null| null|  null|\n",
      "|09J|Jekyll Island Air...|31.0744722| -81.4277778|  11|-4.0|  A|  null|   null|  null|  null|  null| null|  null|\n",
      "|0A9|Elizabethton Muni...|36.3712222| -82.1734167|1593|-4.0|  A|  null|   null|  null|  null|  null| null|  null|\n",
      "|0G6|Williams County A...|41.4673056| -84.5067778| 730|-5.0|  A|  null|   null|  null|  null|  null| null|  null|\n",
      "|0G7|Finger Lakes Regi...|42.8835647| -76.7812318| 492|-5.0|  A|  null|   null|  null|  null|  null| null|  null|\n",
      "|0P2|Shoestring Aviati...|39.7948244| -76.6471914|1000|-5.0|  U|  null|   null|  null|  null|  null| null|  null|\n",
      "|0S9|Jefferson County ...|48.0538086|-122.8106436| 108|-8.0|  A|  null|   null|  null|  null|  null| null|  null|\n",
      "+---+--------------------+----------+------------+----+----+---+------+-------+------+------+------+-----+------+\n",
      "only showing top 10 rows\n",
      "\n"
     ]
    }
   ],
   "source": [
    "airports_parquet.show(10)"
   ]
  },
  {
   "cell_type": "markdown",
   "metadata": {},
   "source": [
    "# Planes"
   ]
  },
  {
   "cell_type": "code",
   "execution_count": 72,
   "metadata": {
    "scrolled": true
   },
   "outputs": [
    {
     "name": "stdout",
     "output_type": "stream",
     "text": [
      "+-------+----+--------------------+----------------+--------+-------+-----+-----+---------+\n",
      "|tailnum|year|                type|    manufacturer|   model|engines|seats|speed|   engine|\n",
      "+-------+----+--------------------+----------------+--------+-------+-----+-----+---------+\n",
      "| N102UW|1998|Fixed wing multi ...|AIRBUS INDUSTRIE|A320-214|      2|  182| null|Turbo-fan|\n",
      "| N103US|1999|Fixed wing multi ...|AIRBUS INDUSTRIE|A320-214|      2|  182| null|Turbo-fan|\n",
      "| N104UW|1999|Fixed wing multi ...|AIRBUS INDUSTRIE|A320-214|      2|  182| null|Turbo-fan|\n",
      "| N105UW|1999|Fixed wing multi ...|AIRBUS INDUSTRIE|A320-214|      2|  182| null|Turbo-fan|\n",
      "| N107US|1999|Fixed wing multi ...|AIRBUS INDUSTRIE|A320-214|      2|  182| null|Turbo-fan|\n",
      "+-------+----+--------------------+----------------+--------+-------+-----+-----+---------+\n",
      "only showing top 5 rows\n",
      "\n"
     ]
    }
   ],
   "source": [
    "schema_plan = (StructType()\n",
    "    .add('tailnum', StringType(), True)\n",
    "    .add('year', IntegerType(), True)\n",
    "    .add('type', StringType(), True)\n",
    "    .add('manufacturer', StringType(), True)\n",
    "    .add('model', StringType(), True)\n",
    "    .add('engines', IntegerType(), True)\n",
    "    .add('seats', IntegerType(), True)\n",
    "    .add('speed', IntegerType(), True)\n",
    "    .add('engine', StringType(), True)\n",
    "              )\n",
    "\n",
    "planes = spark.read.format('csv')\\\n",
    "    .option('header', True)\\\n",
    "    .schema(schema_plan)\\\n",
    "    .load('../data/planes.csv')\n",
    "\n",
    "planes.show(5)"
   ]
  },
  {
   "cell_type": "code",
   "execution_count": 73,
   "metadata": {
    "scrolled": false
   },
   "outputs": [
    {
     "name": "stdout",
     "output_type": "stream",
     "text": [
      "root\n",
      " |-- tailnum: string (nullable = true)\n",
      " |-- year: integer (nullable = true)\n",
      " |-- type: string (nullable = true)\n",
      " |-- manufacturer: string (nullable = true)\n",
      " |-- model: string (nullable = true)\n",
      " |-- engines: integer (nullable = true)\n",
      " |-- seats: integer (nullable = true)\n",
      " |-- speed: integer (nullable = true)\n",
      " |-- engine: string (nullable = true)\n",
      "\n"
     ]
    }
   ],
   "source": [
    "planes.printSchema()"
   ]
  },
  {
   "cell_type": "markdown",
   "metadata": {},
   "source": [
    "### Pergunta 1"
   ]
  },
  {
   "cell_type": "code",
   "execution_count": 74,
   "metadata": {},
   "outputs": [],
   "source": [
    "p1 = planes.withColumn('qa_tailnum',( \n",
    "                         when((planes.tailnum == '') | \n",
    "                              (planes.tailnum == ' ') | \n",
    "                              (planes.tailnum.isNull()), 'M')\n",
    "                        .when(length(planes.tailnum).between(5, 6), 'S')\n",
    "                        .when(~planes.tailnum.rlike('^([A-Z])([0-9]{3,4})([A-Z]{1,2})$'), 'F')\n",
    "                        .when(~planes.tailnum.startswith('N'), 'FN')\n",
    "                        .when(planes.tailnum.rlike('^[OI]'), 'FE')\n",
    "                                    )\n",
    "                      )"
   ]
  },
  {
   "cell_type": "code",
   "execution_count": 75,
   "metadata": {},
   "outputs": [
    {
     "name": "stdout",
     "output_type": "stream",
     "text": [
      "+-------+----------+\n",
      "|tailnum|qa_tailnum|\n",
      "+-------+----------+\n",
      "| N102UW|         S|\n",
      "| N103US|         S|\n",
      "| N104UW|         S|\n",
      "| N105UW|         S|\n",
      "| N107US|         S|\n",
      "| N108UW|         S|\n",
      "| N109UW|         S|\n",
      "| N110UW|         S|\n",
      "| N111US|         S|\n",
      "| N11206|         S|\n",
      "| N112US|         S|\n",
      "| N113UW|         S|\n",
      "| N114UW|         S|\n",
      "| N117UW|         S|\n",
      "| N118US|         S|\n",
      "| N119US|         S|\n",
      "| N1200K|         S|\n",
      "| N1201P|         S|\n",
      "| N12114|         S|\n",
      "| N121DE|         S|\n",
      "+-------+----------+\n",
      "only showing top 20 rows\n",
      "\n"
     ]
    }
   ],
   "source": [
    "p1.select(p1.tailnum, p1.qa_tailnum)\\\n",
    "    .filter(p1.tailnum.isNotNull())\\\n",
    "    .show()"
   ]
  },
  {
   "cell_type": "markdown",
   "metadata": {},
   "source": [
    "### Pergunta 2"
   ]
  },
  {
   "cell_type": "code",
   "execution_count": 76,
   "metadata": {},
   "outputs": [],
   "source": [
    "p2 = p1.withColumn('qa_year', \n",
    "                   when((p1.year == '') | \n",
    "                        (p1.year == ' ') | \n",
    "                        (p1.year.isNull()), 'M')\n",
    "                  .when(p1.year < 1950, 'I'))"
   ]
  },
  {
   "cell_type": "code",
   "execution_count": 77,
   "metadata": {},
   "outputs": [
    {
     "name": "stdout",
     "output_type": "stream",
     "text": [
      "+----+-------+\n",
      "|year|qa_year|\n",
      "+----+-------+\n",
      "|null|      M|\n",
      "|null|      M|\n",
      "|null|      M|\n",
      "|null|      M|\n",
      "|   0|      I|\n",
      "|null|      M|\n",
      "|null|      M|\n",
      "|null|      M|\n",
      "|null|      M|\n",
      "|null|      M|\n",
      "|null|      M|\n",
      "|null|      M|\n",
      "|null|      M|\n",
      "|null|      M|\n",
      "|null|      M|\n",
      "|null|      M|\n",
      "|null|      M|\n",
      "|null|      M|\n",
      "|null|      M|\n",
      "|null|      M|\n",
      "+----+-------+\n",
      "only showing top 20 rows\n",
      "\n"
     ]
    }
   ],
   "source": [
    "(p2.select(p2.year, p2.qa_year)\n",
    "   .filter(p2.qa_year.isNotNull())\n",
    "   .show()\n",
    ")"
   ]
  },
  {
   "cell_type": "markdown",
   "metadata": {},
   "source": [
    "### Pergunta 3"
   ]
  },
  {
   "cell_type": "code",
   "execution_count": 78,
   "metadata": {},
   "outputs": [],
   "source": [
    "list_type = ['Fixed wing multi engine', 'Fixed wing single engine', 'Rotorcraft']\n",
    "\n",
    "p3 = p2.withColumn('qa_type', \n",
    "                   when((p2.type == '')  | \n",
    "                        (p2.type == ' ') | \n",
    "                        (p2.type.isNull()), 'M')\n",
    "                  .when(~p2.type.isin(list_type), 'C'))"
   ]
  },
  {
   "cell_type": "code",
   "execution_count": 79,
   "metadata": {},
   "outputs": [
    {
     "name": "stdout",
     "output_type": "stream",
     "text": [
      "+----+-------+\n",
      "|type|qa_type|\n",
      "+----+-------+\n",
      "+----+-------+\n",
      "\n"
     ]
    }
   ],
   "source": [
    "p3.select(p3.type, p3.qa_type).filter(p3.qa_type.isNotNull()).show()"
   ]
  },
  {
   "cell_type": "markdown",
   "metadata": {},
   "source": [
    "### Pergunta 4"
   ]
  },
  {
   "cell_type": "code",
   "execution_count": 80,
   "metadata": {},
   "outputs": [],
   "source": [
    "list_manu = ['AIRBUS', 'BOEING', 'BOMBARDIER', 'CESSNA', 'EMBRAER', 'SIKORSKY', 'CANADAIR', 'PIPER', 'MCDONNELL DOUGLAS',\n",
    "             'CIRRUS', 'BELL', 'KILDALL GARY', 'LAMBERT RICHARD', 'BARKER JACK', 'ROBINSON HELICOPTER', 'GULFSTREAM', \n",
    "             'MARZ BARRY']\n",
    "\n",
    "p4 = p3.withColumn('qa_manufacturer', \n",
    "                   when((p3.manufacturer == '')  | \n",
    "                        (p3.manufacturer == ' ') | \n",
    "                        (p3.manufacturer.isNull()), 'M')\n",
    "                  .when(~p3.manufacturer.isin(list_manu), 'C')\n",
    "                  )"
   ]
  },
  {
   "cell_type": "code",
   "execution_count": 81,
   "metadata": {},
   "outputs": [
    {
     "name": "stdout",
     "output_type": "stream",
     "text": [
      "+----------------+---------------+\n",
      "|    manufacturer|qa_manufacturer|\n",
      "+----------------+---------------+\n",
      "|AIRBUS INDUSTRIE|              C|\n",
      "|AIRBUS INDUSTRIE|              C|\n",
      "|AIRBUS INDUSTRIE|              C|\n",
      "|AIRBUS INDUSTRIE|              C|\n",
      "|AIRBUS INDUSTRIE|              C|\n",
      "|AIRBUS INDUSTRIE|              C|\n",
      "|AIRBUS INDUSTRIE|              C|\n",
      "|AIRBUS INDUSTRIE|              C|\n",
      "|AIRBUS INDUSTRIE|              C|\n",
      "|AIRBUS INDUSTRIE|              C|\n",
      "|AIRBUS INDUSTRIE|              C|\n",
      "|AIRBUS INDUSTRIE|              C|\n",
      "|AIRBUS INDUSTRIE|              C|\n",
      "|AIRBUS INDUSTRIE|              C|\n",
      "|AIRBUS INDUSTRIE|              C|\n",
      "|AIRBUS INDUSTRIE|              C|\n",
      "|AIRBUS INDUSTRIE|              C|\n",
      "|AIRBUS INDUSTRIE|              C|\n",
      "|AIRBUS INDUSTRIE|              C|\n",
      "|  BOMBARDIER INC|              C|\n",
      "+----------------+---------------+\n",
      "only showing top 20 rows\n",
      "\n"
     ]
    }
   ],
   "source": [
    "p4.select(p4.manufacturer, p4.qa_manufacturer).filter(p4.qa_manufacturer.isNotNull()).show()"
   ]
  },
  {
   "cell_type": "markdown",
   "metadata": {},
   "source": [
    "### Pergunta 5"
   ]
  },
  {
   "cell_type": "code",
   "execution_count": 82,
   "metadata": {},
   "outputs": [],
   "source": [
    "p5 = p4.withColumn('qa_model', \n",
    "                   when(((p4.manufacturer == 'AIRBUS') & \n",
    "                         ~(p4.model.startswith('A'))) | \n",
    "                        ((p4.manufacturer == 'BOEING') & \n",
    "                         ~(p4.model.startswith('7'))) | \n",
    "                        (((p4.manufacturer == 'BOMBARDIER') | \n",
    "                          (p4.manufacturer == 'CANADAIR')) & \n",
    "                         ~(p4.model.startswith('CL'))) | \n",
    "                        ((p4.manufacturer == 'MCDONNELL DOUGLAS') & \n",
    "                         ~((p4.model.startswith('MD')) | \n",
    "                           (p4.model.startswith('DC')))), 'F')\n",
    "                  .when((p4.manufacturer == '')  |\n",
    "                        (p4.manufacturer == ' ') |\n",
    "                        (p4.manufacturer.isNull()), 'M') \n",
    "                  )"
   ]
  },
  {
   "cell_type": "code",
   "execution_count": 83,
   "metadata": {
    "scrolled": true
   },
   "outputs": [
    {
     "name": "stdout",
     "output_type": "stream",
     "text": [
      "+------------+--------+--------+\n",
      "|manufacturer|   model|qa_model|\n",
      "+------------+--------+--------+\n",
      "|      BOEING|MD-90-30|       F|\n",
      "|      BOEING|MD-90-30|       F|\n",
      "|      BOEING|MD-90-30|       F|\n",
      "|      BOEING|MD-90-30|       F|\n",
      "|      BOEING|MD-90-30|       F|\n",
      "|      BOEING|MD-90-30|       F|\n",
      "|      BOEING|MD-90-30|       F|\n",
      "|      BOEING|MD-90-30|       F|\n",
      "|      BOEING|MD-90-30|       F|\n",
      "|      BOEING|MD-90-30|       F|\n",
      "|      BOEING|MD-90-30|       F|\n",
      "|      BOEING|MD-90-30|       F|\n",
      "|      BOEING|MD-90-30|       F|\n",
      "|      BOEING|MD-90-30|       F|\n",
      "|      BOEING|MD-90-30|       F|\n",
      "+------------+--------+--------+\n",
      "\n"
     ]
    }
   ],
   "source": [
    "p5.select(p5.manufacturer, p5.model, p5.qa_model)\\\n",
    "    .filter(p5.qa_model.isNotNull())\\\n",
    "    .show()"
   ]
  },
  {
   "cell_type": "markdown",
   "metadata": {},
   "source": [
    "### Pergunta 6"
   ]
  },
  {
   "cell_type": "code",
   "execution_count": 84,
   "metadata": {},
   "outputs": [],
   "source": [
    "p6 = p5.withColumn('qa_engines', \n",
    "                   when((p5.engines == '') | \n",
    "                        (p5.engines == ' ') | \n",
    "                        (p5.engines.isNull()), 'M')\n",
    "                  .when(~col('engines').between(1, 4), 'I')\n",
    "                  .when(col('engines').rlike('.*[A-Z]'), 'A'))"
   ]
  },
  {
   "cell_type": "code",
   "execution_count": 85,
   "metadata": {
    "scrolled": true
   },
   "outputs": [
    {
     "name": "stdout",
     "output_type": "stream",
     "text": [
      "+-------+----------+\n",
      "|engines|qa_engines|\n",
      "+-------+----------+\n",
      "+-------+----------+\n",
      "\n"
     ]
    }
   ],
   "source": [
    "p6.select(p6.engines, p6.qa_engines)\\\n",
    "    .filter(col('qa_engines').isNotNull())\\\n",
    "    .show()"
   ]
  },
  {
   "cell_type": "markdown",
   "metadata": {},
   "source": [
    "### Pergunta 7"
   ]
  },
  {
   "cell_type": "code",
   "execution_count": 86,
   "metadata": {},
   "outputs": [],
   "source": [
    "p7 = p6.withColumn('qa_seats', \n",
    "                   when((p6.seats == '') | \n",
    "                        (p6.seats == ' ') | \n",
    "                        (p6.seats.isNull()), 'M')\n",
    "                  .when(~p6.seats.between(2,500), 'I')\n",
    "                  .when(p6.seats.cast('int').isNull(), 'A'))"
   ]
  },
  {
   "cell_type": "code",
   "execution_count": 87,
   "metadata": {
    "scrolled": true
   },
   "outputs": [
    {
     "name": "stdout",
     "output_type": "stream",
     "text": [
      "+-----+--------+\n",
      "|seats|qa_seats|\n",
      "+-----+--------+\n",
      "+-----+--------+\n",
      "\n"
     ]
    }
   ],
   "source": [
    "p7.select(p7.seats, p7.qa_seats)\\\n",
    "    .filter(p7.qa_seats.isNotNull())\\\n",
    "    .show()"
   ]
  },
  {
   "cell_type": "markdown",
   "metadata": {},
   "source": [
    "### Pergunta 8"
   ]
  },
  {
   "cell_type": "code",
   "execution_count": 88,
   "metadata": {},
   "outputs": [],
   "source": [
    "p8 = p7.withColumn('qa_speed', \n",
    "                   when((p7.speed == '')  | \n",
    "                        (p7.speed == ' ') | \n",
    "                        (p7.speed.isNull()), 'M')\n",
    "                  .when(~p7.speed.between(50, 150), 'I')\n",
    "                  .when(p7.speed.cast('int').isNull(), 'A'))"
   ]
  },
  {
   "cell_type": "code",
   "execution_count": 89,
   "metadata": {
    "scrolled": true
   },
   "outputs": [
    {
     "name": "stdout",
     "output_type": "stream",
     "text": [
      "+-----+--------+\n",
      "|speed|qa_speed|\n",
      "+-----+--------+\n",
      "| null|       M|\n",
      "| null|       M|\n",
      "| null|       M|\n",
      "| null|       M|\n",
      "| null|       M|\n",
      "| null|       M|\n",
      "| null|       M|\n",
      "| null|       M|\n",
      "| null|       M|\n",
      "| null|       M|\n",
      "| null|       M|\n",
      "| null|       M|\n",
      "| null|       M|\n",
      "| null|       M|\n",
      "| null|       M|\n",
      "| null|       M|\n",
      "| null|       M|\n",
      "| null|       M|\n",
      "| null|       M|\n",
      "| null|       M|\n",
      "+-----+--------+\n",
      "only showing top 20 rows\n",
      "\n"
     ]
    }
   ],
   "source": [
    "p8.select(p8.speed, p8.qa_speed)\\\n",
    "    .filter(p8.qa_speed.isNotNull())\\\n",
    "    .show()"
   ]
  },
  {
   "cell_type": "markdown",
   "metadata": {},
   "source": [
    "### Pergunta 9"
   ]
  },
  {
   "cell_type": "code",
   "execution_count": 90,
   "metadata": {},
   "outputs": [
    {
     "data": {
      "text/plain": [
       "['Turbo-fan', 'Turbo-jet', 'Turbo-prop', 'Turbo-shaft', '4 Cycle']"
      ]
     },
     "execution_count": 90,
     "metadata": {},
     "output_type": "execute_result"
    }
   ],
   "source": [
    "list_engine = ['Turbo-fan', 'Turbo-jet', 'Turbo-prop', 'Turbo-shaft', '4 Cycle']\n",
    "list_engine"
   ]
  },
  {
   "cell_type": "code",
   "execution_count": 91,
   "metadata": {},
   "outputs": [],
   "source": [
    "p9 = p8.withColumn('qa_engine', \n",
    "                   when((p8.engine == '') | \n",
    "                        (p8.engine == ' ') | \n",
    "                        (p8.engine.isNull()), 'M')\n",
    "                  .when(~p8.engine.isin(list_engine), 'C'))"
   ]
  },
  {
   "cell_type": "code",
   "execution_count": 92,
   "metadata": {
    "scrolled": true
   },
   "outputs": [
    {
     "name": "stdout",
     "output_type": "stream",
     "text": [
      "+-------------+---------+\n",
      "|       engine|qa_engine|\n",
      "+-------------+---------+\n",
      "|Reciprocating|        C|\n",
      "|Reciprocating|        C|\n",
      "|Reciprocating|        C|\n",
      "|Reciprocating|        C|\n",
      "|Reciprocating|        C|\n",
      "|Reciprocating|        C|\n",
      "|Reciprocating|        C|\n",
      "|Reciprocating|        C|\n",
      "|Reciprocating|        C|\n",
      "|Reciprocating|        C|\n",
      "+-------------+---------+\n",
      "\n"
     ]
    }
   ],
   "source": [
    "p9.select(p9.engine, p9.qa_engine)\\\n",
    "    .filter(p9.qa_engine.isNotNull())\\\n",
    "    .show()"
   ]
  },
  {
   "cell_type": "markdown",
   "metadata": {},
   "source": [
    "### Salvando em parquet"
   ]
  },
  {
   "cell_type": "code",
   "execution_count": 98,
   "metadata": {},
   "outputs": [],
   "source": [
    "p9.write.format('parquet')\\\n",
    "    .mode('overwrite')\\\n",
    "    .save('../data/planes')"
   ]
  },
  {
   "cell_type": "markdown",
   "metadata": {},
   "source": [
    "### Abrindo parquet"
   ]
  },
  {
   "cell_type": "code",
   "execution_count": 99,
   "metadata": {
    "scrolled": true
   },
   "outputs": [
    {
     "data": {
      "text/html": [
       "<div>\n",
       "<style scoped>\n",
       "    .dataframe tbody tr th:only-of-type {\n",
       "        vertical-align: middle;\n",
       "    }\n",
       "\n",
       "    .dataframe tbody tr th {\n",
       "        vertical-align: top;\n",
       "    }\n",
       "\n",
       "    .dataframe thead th {\n",
       "        text-align: right;\n",
       "    }\n",
       "</style>\n",
       "<table border=\"1\" class=\"dataframe\">\n",
       "  <thead>\n",
       "    <tr style=\"text-align: right;\">\n",
       "      <th></th>\n",
       "      <th>tailnum</th>\n",
       "      <th>year</th>\n",
       "      <th>type</th>\n",
       "      <th>manufacturer</th>\n",
       "      <th>model</th>\n",
       "      <th>engines</th>\n",
       "      <th>seats</th>\n",
       "      <th>speed</th>\n",
       "      <th>engine</th>\n",
       "      <th>qa_tailnum</th>\n",
       "      <th>qa_year</th>\n",
       "      <th>qa_type</th>\n",
       "      <th>qa_manufacturer</th>\n",
       "      <th>qa_model</th>\n",
       "      <th>qa_engines</th>\n",
       "      <th>qa_seats</th>\n",
       "      <th>qa_speed</th>\n",
       "      <th>qa_engine</th>\n",
       "    </tr>\n",
       "  </thead>\n",
       "  <tbody>\n",
       "    <tr>\n",
       "      <th>0</th>\n",
       "      <td>N102UW</td>\n",
       "      <td>1998.0</td>\n",
       "      <td>Fixed wing multi engine</td>\n",
       "      <td>AIRBUS INDUSTRIE</td>\n",
       "      <td>A320-214</td>\n",
       "      <td>2</td>\n",
       "      <td>182</td>\n",
       "      <td>NaN</td>\n",
       "      <td>Turbo-fan</td>\n",
       "      <td>S</td>\n",
       "      <td>None</td>\n",
       "      <td>None</td>\n",
       "      <td>C</td>\n",
       "      <td>None</td>\n",
       "      <td>None</td>\n",
       "      <td>None</td>\n",
       "      <td>M</td>\n",
       "      <td>None</td>\n",
       "    </tr>\n",
       "    <tr>\n",
       "      <th>1</th>\n",
       "      <td>N103US</td>\n",
       "      <td>1999.0</td>\n",
       "      <td>Fixed wing multi engine</td>\n",
       "      <td>AIRBUS INDUSTRIE</td>\n",
       "      <td>A320-214</td>\n",
       "      <td>2</td>\n",
       "      <td>182</td>\n",
       "      <td>NaN</td>\n",
       "      <td>Turbo-fan</td>\n",
       "      <td>S</td>\n",
       "      <td>None</td>\n",
       "      <td>None</td>\n",
       "      <td>C</td>\n",
       "      <td>None</td>\n",
       "      <td>None</td>\n",
       "      <td>None</td>\n",
       "      <td>M</td>\n",
       "      <td>None</td>\n",
       "    </tr>\n",
       "    <tr>\n",
       "      <th>2</th>\n",
       "      <td>N104UW</td>\n",
       "      <td>1999.0</td>\n",
       "      <td>Fixed wing multi engine</td>\n",
       "      <td>AIRBUS INDUSTRIE</td>\n",
       "      <td>A320-214</td>\n",
       "      <td>2</td>\n",
       "      <td>182</td>\n",
       "      <td>NaN</td>\n",
       "      <td>Turbo-fan</td>\n",
       "      <td>S</td>\n",
       "      <td>None</td>\n",
       "      <td>None</td>\n",
       "      <td>C</td>\n",
       "      <td>None</td>\n",
       "      <td>None</td>\n",
       "      <td>None</td>\n",
       "      <td>M</td>\n",
       "      <td>None</td>\n",
       "    </tr>\n",
       "    <tr>\n",
       "      <th>3</th>\n",
       "      <td>N105UW</td>\n",
       "      <td>1999.0</td>\n",
       "      <td>Fixed wing multi engine</td>\n",
       "      <td>AIRBUS INDUSTRIE</td>\n",
       "      <td>A320-214</td>\n",
       "      <td>2</td>\n",
       "      <td>182</td>\n",
       "      <td>NaN</td>\n",
       "      <td>Turbo-fan</td>\n",
       "      <td>S</td>\n",
       "      <td>None</td>\n",
       "      <td>None</td>\n",
       "      <td>C</td>\n",
       "      <td>None</td>\n",
       "      <td>None</td>\n",
       "      <td>None</td>\n",
       "      <td>M</td>\n",
       "      <td>None</td>\n",
       "    </tr>\n",
       "    <tr>\n",
       "      <th>4</th>\n",
       "      <td>N107US</td>\n",
       "      <td>1999.0</td>\n",
       "      <td>Fixed wing multi engine</td>\n",
       "      <td>AIRBUS INDUSTRIE</td>\n",
       "      <td>A320-214</td>\n",
       "      <td>2</td>\n",
       "      <td>182</td>\n",
       "      <td>NaN</td>\n",
       "      <td>Turbo-fan</td>\n",
       "      <td>S</td>\n",
       "      <td>None</td>\n",
       "      <td>None</td>\n",
       "      <td>C</td>\n",
       "      <td>None</td>\n",
       "      <td>None</td>\n",
       "      <td>None</td>\n",
       "      <td>M</td>\n",
       "      <td>None</td>\n",
       "    </tr>\n",
       "    <tr>\n",
       "      <th>...</th>\n",
       "      <td>...</td>\n",
       "      <td>...</td>\n",
       "      <td>...</td>\n",
       "      <td>...</td>\n",
       "      <td>...</td>\n",
       "      <td>...</td>\n",
       "      <td>...</td>\n",
       "      <td>...</td>\n",
       "      <td>...</td>\n",
       "      <td>...</td>\n",
       "      <td>...</td>\n",
       "      <td>...</td>\n",
       "      <td>...</td>\n",
       "      <td>...</td>\n",
       "      <td>...</td>\n",
       "      <td>...</td>\n",
       "      <td>...</td>\n",
       "      <td>...</td>\n",
       "    </tr>\n",
       "    <tr>\n",
       "      <th>2623</th>\n",
       "      <td>N983SW</td>\n",
       "      <td>2004.0</td>\n",
       "      <td>Fixed wing multi engine</td>\n",
       "      <td>BOMBARDIER INC</td>\n",
       "      <td>CL-600-2B19</td>\n",
       "      <td>2</td>\n",
       "      <td>55</td>\n",
       "      <td>NaN</td>\n",
       "      <td>Turbo-fan</td>\n",
       "      <td>S</td>\n",
       "      <td>None</td>\n",
       "      <td>None</td>\n",
       "      <td>C</td>\n",
       "      <td>None</td>\n",
       "      <td>None</td>\n",
       "      <td>None</td>\n",
       "      <td>M</td>\n",
       "      <td>None</td>\n",
       "    </tr>\n",
       "    <tr>\n",
       "      <th>2624</th>\n",
       "      <td>N984CA</td>\n",
       "      <td>1997.0</td>\n",
       "      <td>Fixed wing multi engine</td>\n",
       "      <td>CANADAIR</td>\n",
       "      <td>CL-600-2B19</td>\n",
       "      <td>2</td>\n",
       "      <td>55</td>\n",
       "      <td>NaN</td>\n",
       "      <td>Turbo-fan</td>\n",
       "      <td>S</td>\n",
       "      <td>None</td>\n",
       "      <td>None</td>\n",
       "      <td>None</td>\n",
       "      <td>None</td>\n",
       "      <td>None</td>\n",
       "      <td>None</td>\n",
       "      <td>M</td>\n",
       "      <td>None</td>\n",
       "    </tr>\n",
       "    <tr>\n",
       "      <th>2625</th>\n",
       "      <td>N986CA</td>\n",
       "      <td>NaN</td>\n",
       "      <td>Fixed wing multi engine</td>\n",
       "      <td>CANADAIR</td>\n",
       "      <td>CL-600-2B19</td>\n",
       "      <td>2</td>\n",
       "      <td>55</td>\n",
       "      <td>NaN</td>\n",
       "      <td>Turbo-fan</td>\n",
       "      <td>S</td>\n",
       "      <td>M</td>\n",
       "      <td>None</td>\n",
       "      <td>None</td>\n",
       "      <td>None</td>\n",
       "      <td>None</td>\n",
       "      <td>None</td>\n",
       "      <td>M</td>\n",
       "      <td>None</td>\n",
       "    </tr>\n",
       "    <tr>\n",
       "      <th>2626</th>\n",
       "      <td>N986SW</td>\n",
       "      <td>2004.0</td>\n",
       "      <td>Fixed wing multi engine</td>\n",
       "      <td>BOMBARDIER INC</td>\n",
       "      <td>CL-600-2B19</td>\n",
       "      <td>2</td>\n",
       "      <td>55</td>\n",
       "      <td>NaN</td>\n",
       "      <td>Turbo-fan</td>\n",
       "      <td>S</td>\n",
       "      <td>None</td>\n",
       "      <td>None</td>\n",
       "      <td>C</td>\n",
       "      <td>None</td>\n",
       "      <td>None</td>\n",
       "      <td>None</td>\n",
       "      <td>M</td>\n",
       "      <td>None</td>\n",
       "    </tr>\n",
       "    <tr>\n",
       "      <th>2627</th>\n",
       "      <td>N988CA</td>\n",
       "      <td>1997.0</td>\n",
       "      <td>Fixed wing multi engine</td>\n",
       "      <td>CANADAIR</td>\n",
       "      <td>CL-600-2B19</td>\n",
       "      <td>2</td>\n",
       "      <td>55</td>\n",
       "      <td>NaN</td>\n",
       "      <td>Turbo-fan</td>\n",
       "      <td>S</td>\n",
       "      <td>None</td>\n",
       "      <td>None</td>\n",
       "      <td>None</td>\n",
       "      <td>None</td>\n",
       "      <td>None</td>\n",
       "      <td>None</td>\n",
       "      <td>M</td>\n",
       "      <td>None</td>\n",
       "    </tr>\n",
       "  </tbody>\n",
       "</table>\n",
       "<p>2628 rows × 18 columns</p>\n",
       "</div>"
      ],
      "text/plain": [
       "     tailnum    year                     type      manufacturer        model  \\\n",
       "0     N102UW  1998.0  Fixed wing multi engine  AIRBUS INDUSTRIE     A320-214   \n",
       "1     N103US  1999.0  Fixed wing multi engine  AIRBUS INDUSTRIE     A320-214   \n",
       "2     N104UW  1999.0  Fixed wing multi engine  AIRBUS INDUSTRIE     A320-214   \n",
       "3     N105UW  1999.0  Fixed wing multi engine  AIRBUS INDUSTRIE     A320-214   \n",
       "4     N107US  1999.0  Fixed wing multi engine  AIRBUS INDUSTRIE     A320-214   \n",
       "...      ...     ...                      ...               ...          ...   \n",
       "2623  N983SW  2004.0  Fixed wing multi engine    BOMBARDIER INC  CL-600-2B19   \n",
       "2624  N984CA  1997.0  Fixed wing multi engine          CANADAIR  CL-600-2B19   \n",
       "2625  N986CA     NaN  Fixed wing multi engine          CANADAIR  CL-600-2B19   \n",
       "2626  N986SW  2004.0  Fixed wing multi engine    BOMBARDIER INC  CL-600-2B19   \n",
       "2627  N988CA  1997.0  Fixed wing multi engine          CANADAIR  CL-600-2B19   \n",
       "\n",
       "      engines  seats  speed     engine qa_tailnum qa_year qa_type  \\\n",
       "0           2    182    NaN  Turbo-fan          S    None    None   \n",
       "1           2    182    NaN  Turbo-fan          S    None    None   \n",
       "2           2    182    NaN  Turbo-fan          S    None    None   \n",
       "3           2    182    NaN  Turbo-fan          S    None    None   \n",
       "4           2    182    NaN  Turbo-fan          S    None    None   \n",
       "...       ...    ...    ...        ...        ...     ...     ...   \n",
       "2623        2     55    NaN  Turbo-fan          S    None    None   \n",
       "2624        2     55    NaN  Turbo-fan          S    None    None   \n",
       "2625        2     55    NaN  Turbo-fan          S       M    None   \n",
       "2626        2     55    NaN  Turbo-fan          S    None    None   \n",
       "2627        2     55    NaN  Turbo-fan          S    None    None   \n",
       "\n",
       "     qa_manufacturer qa_model qa_engines qa_seats qa_speed qa_engine  \n",
       "0                  C     None       None     None        M      None  \n",
       "1                  C     None       None     None        M      None  \n",
       "2                  C     None       None     None        M      None  \n",
       "3                  C     None       None     None        M      None  \n",
       "4                  C     None       None     None        M      None  \n",
       "...              ...      ...        ...      ...      ...       ...  \n",
       "2623               C     None       None     None        M      None  \n",
       "2624            None     None       None     None        M      None  \n",
       "2625            None     None       None     None        M      None  \n",
       "2626               C     None       None     None        M      None  \n",
       "2627            None     None       None     None        M      None  \n",
       "\n",
       "[2628 rows x 18 columns]"
      ]
     },
     "execution_count": 99,
     "metadata": {},
     "output_type": "execute_result"
    }
   ],
   "source": [
    "planes_parquet = spark.read.parquet('../data/planes')\n",
    "planes_parquet.toPandas()"
   ]
  },
  {
   "cell_type": "markdown",
   "metadata": {},
   "source": [
    "# Flights"
   ]
  },
  {
   "cell_type": "code",
   "execution_count": 100,
   "metadata": {},
   "outputs": [],
   "source": [
    "schema_flights = (StructType()\n",
    "    .add('year', IntegerType(), True)\n",
    "    .add('month', IntegerType(), True)\n",
    "    .add('day', IntegerType(), True)\n",
    "    .add('dep_time', StringType(), True)\n",
    "    .add('dep_delay', IntegerType(), True)\n",
    "    .add('arr_time', StringType(), True)\n",
    "    .add('arr_delay', IntegerType(), True)\n",
    "    .add('carrier', StringType(), True)\n",
    "    .add('tailnum', StringType(), True)\n",
    "    .add('flight', StringType(), True)\n",
    "    .add('origin', StringType(), True)\n",
    "    .add('dest', StringType(), True)\n",
    "    .add('air_time', IntegerType(), True)\n",
    "    .add('distance', IntegerType(), True)\n",
    "    .add('hour', IntegerType(), True)\\\n",
    "    .add('minute', IntegerType(), True)\n",
    "                 )"
   ]
  },
  {
   "cell_type": "code",
   "execution_count": 101,
   "metadata": {},
   "outputs": [],
   "source": [
    "flights = spark.read.format('csv')\\\n",
    "    .option('header', True)\\\n",
    "    .schema(schema_flights)\\\n",
    "    .load('../data/flights.csv')"
   ]
  },
  {
   "cell_type": "code",
   "execution_count": 102,
   "metadata": {
    "scrolled": true
   },
   "outputs": [
    {
     "name": "stdout",
     "output_type": "stream",
     "text": [
      "root\n",
      " |-- year: integer (nullable = true)\n",
      " |-- month: integer (nullable = true)\n",
      " |-- day: integer (nullable = true)\n",
      " |-- dep_time: string (nullable = true)\n",
      " |-- dep_delay: integer (nullable = true)\n",
      " |-- arr_time: string (nullable = true)\n",
      " |-- arr_delay: integer (nullable = true)\n",
      " |-- carrier: string (nullable = true)\n",
      " |-- tailnum: string (nullable = true)\n",
      " |-- flight: string (nullable = true)\n",
      " |-- origin: string (nullable = true)\n",
      " |-- dest: string (nullable = true)\n",
      " |-- air_time: integer (nullable = true)\n",
      " |-- distance: integer (nullable = true)\n",
      " |-- hour: integer (nullable = true)\n",
      " |-- minute: integer (nullable = true)\n",
      "\n"
     ]
    }
   ],
   "source": [
    "flights.printSchema()"
   ]
  },
  {
   "cell_type": "code",
   "execution_count": 103,
   "metadata": {
    "scrolled": true
   },
   "outputs": [
    {
     "name": "stdout",
     "output_type": "stream",
     "text": [
      "+----+-----+---+--------+---------+--------+---------+-------+-------+------+------+----+--------+--------+----+------+\n",
      "|year|month|day|dep_time|dep_delay|arr_time|arr_delay|carrier|tailnum|flight|origin|dest|air_time|distance|hour|minute|\n",
      "+----+-----+---+--------+---------+--------+---------+-------+-------+------+------+----+--------+--------+----+------+\n",
      "|2014|   12|  8|     658|       -7|     935|       -5|     VX| N846VA|  1780|   SEA| LAX|     132|     954|   6|    58|\n",
      "|2014|    1| 22|    1040|        5|    1505|        5|     AS| N559AS|   851|   SEA| HNL|     360|    2677|  10|    40|\n",
      "|2014|    3|  9|    1443|       -2|    1652|        2|     VX| N847VA|   755|   SEA| SFO|     111|     679|  14|    43|\n",
      "|2014|    4|  9|    1705|       45|    1839|       34|     WN| N360SW|   344|   PDX| SJC|      83|     569|  17|     5|\n",
      "|2014|    3|  9|     754|       -1|    1015|        1|     AS| N612AS|   522|   SEA| BUR|     127|     937|   7|    54|\n",
      "|2014|    1| 15|    1037|        7|    1352|        2|     WN| N646SW|    48|   PDX| DEN|     121|     991|  10|    37|\n",
      "|2014|    7|  2|     847|       42|    1041|       51|     WN| N422WN|  1520|   PDX| OAK|      90|     543|   8|    47|\n",
      "|2014|    5| 12|    1655|       -5|    1842|      -18|     VX| N361VA|   755|   SEA| SFO|      98|     679|  16|    55|\n",
      "|2014|    4| 19|    1236|       -4|    1508|       -7|     AS| N309AS|   490|   SEA| SAN|     135|    1050|  12|    36|\n",
      "|2014|   11| 19|    1812|       -3|    2352|       -4|     AS| N564AS|    26|   SEA| ORD|     198|    1721|  18|    12|\n",
      "|2014|   11|  8|    1653|       -2|    1924|       -1|     AS| N323AS|   448|   SEA| LAX|     130|     954|  16|    53|\n",
      "|2014|    8|  3|    1120|        0|    1415|        2|     AS| N305AS|   656|   SEA| PHX|     154|    1107|  11|    20|\n",
      "|2014|   10| 30|     811|       21|    1038|       29|     AS| N433AS|   608|   SEA| LAS|     127|     867|   8|    11|\n",
      "|2014|   11| 12|    2346|       -4|     217|      -28|     AS| N765AS|   121|   SEA| ANC|     183|    1448|  23|    46|\n",
      "|2014|   10| 31|    1314|       89|    1544|      111|     AS| N713AS|   306|   SEA| SFO|     129|     679|  13|    14|\n",
      "|2014|    1| 29|    2009|        3|    2159|        9|     UA| N27205|  1458|   PDX| SFO|      90|     550|  20|     9|\n",
      "|2014|   12| 17|    2015|       50|    2150|       41|     AS| N626AS|   368|   SEA| SMF|      76|     605|  20|    15|\n",
      "|2014|    8| 11|    1017|       -3|    1613|       -7|     WN| N8634A|   827|   SEA| MDW|     216|    1733|  10|    17|\n",
      "|2014|    1| 13|    2156|       -9|     607|      -15|     AS| N597AS|    24|   SEA| BOS|     290|    2496|  21|    56|\n",
      "|2014|    6|  5|    1733|      -12|    1945|      -10|     OO| N215AG|  3488|   PDX| BUR|     111|     817|  17|    33|\n",
      "+----+-----+---+--------+---------+--------+---------+-------+-------+------+------+----+--------+--------+----+------+\n",
      "only showing top 20 rows\n",
      "\n"
     ]
    }
   ],
   "source": [
    "flights.show()"
   ]
  },
  {
   "cell_type": "markdown",
   "metadata": {},
   "source": [
    "### Pergunta 1"
   ]
  },
  {
   "cell_type": "code",
   "execution_count": 104,
   "metadata": {},
   "outputs": [],
   "source": [
    "f1 = flights.withColumn('qa_year_month_day', \n",
    "                        when((flights.year == '') | \n",
    "                             (flights.year == ' ') | \n",
    "                             (flights.year.isNull()), 'MY')\n",
    "                       .when((flights.month == '') | \n",
    "                             (flights.month == ' ') | \n",
    "                             (flights.month.isNull()), 'MM')\n",
    "                       .when((flights.day == '') | \n",
    "                             (flights.day == ' ') | \n",
    "                             (flights.day.isNull()), 'MD')\n",
    "                       .when(flights.year < 1950, 'IY')\n",
    "                       .when(~flights.month.between(1, 12), 'IM')\n",
    "                       .when(((flights.month == 2) & \n",
    "                              (~flights.day.between(1, 29))) | \n",
    "                             (((flights.month != 2)) & \n",
    "                              (~flights.day.between(1, 31))), 'ID'))"
   ]
  },
  {
   "cell_type": "code",
   "execution_count": 105,
   "metadata": {
    "scrolled": true
   },
   "outputs": [
    {
     "name": "stdout",
     "output_type": "stream",
     "text": [
      "+----+-----+---+-----------------+\n",
      "|year|month|day|qa_year_month_day|\n",
      "+----+-----+---+-----------------+\n",
      "+----+-----+---+-----------------+\n",
      "\n"
     ]
    }
   ],
   "source": [
    "f1.select(f1.year, f1.month, f1.day, f1.qa_year_month_day)\\\n",
    "    .filter(f1.qa_year_month_day.isNotNull())\\\n",
    "    .show()"
   ]
  },
  {
   "cell_type": "markdown",
   "metadata": {},
   "source": [
    "### Pergunta 2"
   ]
  },
  {
   "cell_type": "code",
   "execution_count": 107,
   "metadata": {},
   "outputs": [],
   "source": [
    "f2 = f1.withColumn('qa_hour_minute',\n",
    "                  when((f1.hour == \"\") | \n",
    "                       (f1.hour == ' ') | \n",
    "                       (f1.hour.isNull()), 'MH')\n",
    "                  .when((f1.minute == '') | \n",
    "                        (f1.minute == ' ') | \n",
    "                        (f1.minute.isNull()), 'MM')\n",
    "                  .when(~f1.hour.between(0, 24), 'IH')\n",
    "                  .when(~f1.minute.between(0,59), 'IM'))"
   ]
  },
  {
   "cell_type": "code",
   "execution_count": 108,
   "metadata": {
    "scrolled": true
   },
   "outputs": [
    {
     "name": "stdout",
     "output_type": "stream",
     "text": [
      "+----+------+--------------+\n",
      "|hour|minute|qa_hour_minute|\n",
      "+----+------+--------------+\n",
      "|null|  null|            MH|\n",
      "|null|  null|            MH|\n",
      "|null|  null|            MH|\n",
      "|null|  null|            MH|\n",
      "|null|  null|            MH|\n",
      "|null|  null|            MH|\n",
      "|null|  null|            MH|\n",
      "|null|  null|            MH|\n",
      "|null|  null|            MH|\n",
      "|null|  null|            MH|\n",
      "|null|  null|            MH|\n",
      "|null|  null|            MH|\n",
      "|null|  null|            MH|\n",
      "|null|  null|            MH|\n",
      "|null|  null|            MH|\n",
      "|null|  null|            MH|\n",
      "|null|  null|            MH|\n",
      "|null|  null|            MH|\n",
      "|null|  null|            MH|\n",
      "|null|  null|            MH|\n",
      "+----+------+--------------+\n",
      "only showing top 20 rows\n",
      "\n"
     ]
    }
   ],
   "source": [
    "f2.select(f2.hour, f2.minute, f2.qa_hour_minute)\\\n",
    "    .filter(f2.qa_hour_minute.isNotNull())\\\n",
    "    .show()"
   ]
  },
  {
   "cell_type": "markdown",
   "metadata": {},
   "source": [
    "### Pergunta 3"
   ]
  },
  {
   "cell_type": "code",
   "execution_count": 111,
   "metadata": {},
   "outputs": [],
   "source": [
    "f3 = f2.withColumn('qa_dep_arr_time',\n",
    "                  when((f2.dep_time == '') | \n",
    "                      (f2.dep_time == ' ') |\n",
    "                      (f2.dep_time.isNull()), 'MD')\n",
    "                  .when((f2.arr_time == '') | \n",
    "                        (f2.arr_time == ' ') | \n",
    "                        (f2.arr_time.isNull()), 'MA')\n",
    "                  .when(~(f2.dep_time.rlike('^([0-9]|1[0-9]|2[0-4])[0-5][0-9]$')), 'FD') \n",
    "                  .when(~(f2.arr_time.rlike('^([0-9]|1[0-9]|2[0-4])[0-5][0-9]$')), 'FA'))\n"
   ]
  },
  {
   "cell_type": "code",
   "execution_count": 112,
   "metadata": {
    "scrolled": false
   },
   "outputs": [
    {
     "name": "stdout",
     "output_type": "stream",
     "text": [
      "+--------+--------+---------------+\n",
      "|dep_time|arr_time|qa_dep_arr_time|\n",
      "+--------+--------+---------------+\n",
      "|    2222|      55|             FA|\n",
      "|    2224|      48|             FA|\n",
      "|    2234|      11|             FA|\n",
      "|    2222|      55|             FA|\n",
      "|       1|     600|             FD|\n",
      "|    2233|      45|             FA|\n",
      "|      26|     518|             FD|\n",
      "|      46|     552|             FD|\n",
      "|    2339|      29|             FA|\n",
      "|      NA|      NA|             FD|\n",
      "|      NA|      NA|             FD|\n",
      "|      NA|      NA|             FD|\n",
      "|    2219|      49|             FA|\n",
      "|      29|     538|             FD|\n",
      "|      49|     835|             FD|\n",
      "|    1603|       2|             FA|\n",
      "|      NA|      NA|             FD|\n",
      "|      24|     300|             FD|\n",
      "|    2231|      42|             FA|\n",
      "|      15|     800|             FD|\n",
      "+--------+--------+---------------+\n",
      "only showing top 20 rows\n",
      "\n"
     ]
    }
   ],
   "source": [
    "f3.select(f3.dep_time, f3.arr_time, f3.qa_dep_arr_time)\\\n",
    "    .filter(f3.qa_dep_arr_time.isNotNull())\\\n",
    "    .show()"
   ]
  },
  {
   "cell_type": "markdown",
   "metadata": {},
   "source": [
    "### Pergunta 4"
   ]
  },
  {
   "cell_type": "code",
   "execution_count": 113,
   "metadata": {},
   "outputs": [],
   "source": [
    "f4 = f3.withColumn('qa_dep_arr_delay',\n",
    "                  when((f3.dep_delay == '') | \n",
    "                       (f3.dep_delay == ' ') | \n",
    "                       (f3.dep_delay.isNull()), 'MD')\n",
    "                  .when((f3.arr_delay == '') | \n",
    "                        (f3.arr_delay == ' ') | \n",
    "                        (f3.arr_delay.isNull()), 'MA'))"
   ]
  },
  {
   "cell_type": "code",
   "execution_count": 114,
   "metadata": {
    "scrolled": true
   },
   "outputs": [
    {
     "name": "stdout",
     "output_type": "stream",
     "text": [
      "+---------+---------+----------------+\n",
      "|dep_delay|arr_delay|qa_dep_arr_delay|\n",
      "+---------+---------+----------------+\n",
      "|        4|     null|              MA|\n",
      "|     null|     null|              MD|\n",
      "|     null|     null|              MD|\n",
      "|     null|     null|              MD|\n",
      "|       40|     null|              MA|\n",
      "|     null|     null|              MD|\n",
      "|     null|     null|              MD|\n",
      "|       -9|     null|              MA|\n",
      "|     null|     null|              MD|\n",
      "|     null|     null|              MD|\n",
      "|        8|     null|              MA|\n",
      "|     null|     null|              MD|\n",
      "|     null|     null|              MD|\n",
      "|     null|     null|              MD|\n",
      "|       -8|     null|              MA|\n",
      "|     null|     null|              MD|\n",
      "|     null|     null|              MD|\n",
      "|     null|     null|              MD|\n",
      "|     null|     null|              MD|\n",
      "|       55|     null|              MA|\n",
      "+---------+---------+----------------+\n",
      "only showing top 20 rows\n",
      "\n"
     ]
    }
   ],
   "source": [
    "f4.select(f4.dep_delay, f4.arr_delay, f4.qa_dep_arr_delay)\\\n",
    "    .filter(f4.qa_dep_arr_delay.isNotNull())\\\n",
    "    .show()"
   ]
  },
  {
   "cell_type": "markdown",
   "metadata": {},
   "source": [
    "### Pergunta 5"
   ]
  },
  {
   "cell_type": "code",
   "execution_count": 115,
   "metadata": {},
   "outputs": [],
   "source": [
    "f5 = f4.withColumn('qa_carrier',\n",
    "                  when((f4.carrier == '') | \n",
    "                       (f4.carrier == ' ') | \n",
    "                       (f4.carrier.isNull()), 'M')\n",
    "                  .when((f4.carrier.rlike('[A-Z]{2}')) |\n",
    "                        (f4.carrier.rlike('[0-9]{2}')) |\n",
    "                        (~f4.carrier.rlike('[A-Z0-9]{2}')), 'F'))"
   ]
  },
  {
   "cell_type": "code",
   "execution_count": 116,
   "metadata": {
    "scrolled": true
   },
   "outputs": [
    {
     "name": "stdout",
     "output_type": "stream",
     "text": [
      "+-------+----------+\n",
      "|carrier|qa_carrier|\n",
      "+-------+----------+\n",
      "|     VX|         F|\n",
      "|     AS|         F|\n",
      "|     VX|         F|\n",
      "|     WN|         F|\n",
      "|     AS|         F|\n",
      "|     WN|         F|\n",
      "|     WN|         F|\n",
      "|     VX|         F|\n",
      "|     AS|         F|\n",
      "|     AS|         F|\n",
      "|     AS|         F|\n",
      "|     AS|         F|\n",
      "|     AS|         F|\n",
      "|     AS|         F|\n",
      "|     AS|         F|\n",
      "|     UA|         F|\n",
      "|     AS|         F|\n",
      "|     WN|         F|\n",
      "|     AS|         F|\n",
      "|     OO|         F|\n",
      "+-------+----------+\n",
      "only showing top 20 rows\n",
      "\n"
     ]
    }
   ],
   "source": [
    "f5.select(f5.carrier, f5.qa_carrier)\\\n",
    "    .filter(f5.qa_carrier.isNotNull())\\\n",
    "    .show()"
   ]
  },
  {
   "cell_type": "markdown",
   "metadata": {},
   "source": [
    "### Pergunta 6 "
   ]
  },
  {
   "cell_type": "code",
   "execution_count": 117,
   "metadata": {},
   "outputs": [],
   "source": [
    "f6 = f5.withColumn('qa_tailnum',\n",
    "                  when((f5.tailnum == '') | \n",
    "                       (f5.tailnum == ' ') | \n",
    "                       (f5.tailnum.isNull()), 'M')\n",
    "                  .when(~length(f5.tailnum).between(5,6), 'S')\n",
    "                  .when(~col('tailnum')\n",
    "                        .rlike('^[A-Z]([0-9]{3})([A-Z]{1,2})$'), 'F')\n",
    "                  .when(~col('tailnum').startswith('N'), 'FN')\n",
    "                  .when(col('tailnum').startswith('[I, O, 0]'), 'FE'))"
   ]
  },
  {
   "cell_type": "code",
   "execution_count": 118,
   "metadata": {
    "scrolled": true
   },
   "outputs": [
    {
     "name": "stdout",
     "output_type": "stream",
     "text": [
      "+-------+----------+\n",
      "|tailnum|qa_tailnum|\n",
      "+-------+----------+\n",
      "| N27205|         F|\n",
      "| N8634A|         F|\n",
      "| N68805|         F|\n",
      "| N37468|         F|\n",
      "| N37419|         F|\n",
      "| N4YJAA|         F|\n",
      "| N39450|         F|\n",
      "| N34282|         F|\n",
      "| N3760C|         F|\n",
      "|  N6701|         F|\n",
      "| N16234|         F|\n",
      "| N3769L|         F|\n",
      "| N3764D|         F|\n",
      "| N36207|         F|\n",
      "| N3EKAA|         F|\n",
      "| N8648A|         F|\n",
      "| N8629A|         F|\n",
      "| N7744A|         F|\n",
      "| N3DRAA|         F|\n",
      "| N13716|         F|\n",
      "+-------+----------+\n",
      "only showing top 20 rows\n",
      "\n"
     ]
    }
   ],
   "source": [
    "f6.select(f6.tailnum, f6.qa_tailnum)\\\n",
    "    .filter(f6.qa_tailnum.isNotNull())\\\n",
    "    .show()"
   ]
  },
  {
   "cell_type": "markdown",
   "metadata": {},
   "source": [
    "### Pergunta 7"
   ]
  },
  {
   "cell_type": "code",
   "execution_count": 119,
   "metadata": {},
   "outputs": [],
   "source": [
    "f7 = f6.withColumn('qa_flight',\n",
    "                  when((f6.flight == '') | \n",
    "                       (f6.flight == ' ') | \n",
    "                       (f6.flight.isNull()), 'M')\n",
    "                  .when(~f6.flight.rlike('[0-9]{4}'), 'F'))"
   ]
  },
  {
   "cell_type": "code",
   "execution_count": 120,
   "metadata": {
    "scrolled": true
   },
   "outputs": [
    {
     "name": "stdout",
     "output_type": "stream",
     "text": [
      "+------+---------+\n",
      "|flight|qa_flight|\n",
      "+------+---------+\n",
      "|   851|        F|\n",
      "|   755|        F|\n",
      "|   344|        F|\n",
      "|   522|        F|\n",
      "|    48|        F|\n",
      "|   755|        F|\n",
      "|   490|        F|\n",
      "|    26|        F|\n",
      "|   448|        F|\n",
      "|   656|        F|\n",
      "|   608|        F|\n",
      "|   121|        F|\n",
      "|   306|        F|\n",
      "|   368|        F|\n",
      "|   827|        F|\n",
      "|    24|        F|\n",
      "|   300|        F|\n",
      "|   616|        F|\n",
      "|   306|        F|\n",
      "|    29|        F|\n",
      "+------+---------+\n",
      "only showing top 20 rows\n",
      "\n"
     ]
    }
   ],
   "source": [
    "f7.select(f7.flight, f7.qa_flight)\\\n",
    "    .filter(f7.qa_flight.isNotNull())\\\n",
    "    .show()"
   ]
  },
  {
   "cell_type": "markdown",
   "metadata": {},
   "source": [
    "### Pergunta 8"
   ]
  },
  {
   "cell_type": "code",
   "execution_count": 121,
   "metadata": {},
   "outputs": [],
   "source": [
    "f8 = f7.withColumn('qa_origin_dest', \n",
    "                  when((f7.origin == '') | \n",
    "                       (f7.origin == ' ') | \n",
    "                       (f7.origin.isNull()), 'MO')\n",
    "                  .when((f7.dest == '') | \n",
    "                        (f7.dest == ' ') | \n",
    "                        (f7.dest.isNull()), 'MD')\n",
    "                  .when((~f7.origin.rlike('[A-Z0-9]{3}')) |\n",
    "                        (f7.origin.rlike('[A-Z]{3}')) | \n",
    "                        (f7.origin.rlike('[0-9]{3}')), 'FO')\n",
    "                   .when((~f7.dest.rlike('[A-Z0-9]{3}')) |\n",
    "                        (f7.dest.rlike('[A-Z]{3}')) | \n",
    "                        (f7.dest.rlike('[0-9]{3}')), 'FD'))"
   ]
  },
  {
   "cell_type": "code",
   "execution_count": 122,
   "metadata": {
    "scrolled": true
   },
   "outputs": [
    {
     "name": "stdout",
     "output_type": "stream",
     "text": [
      "+------+----+--------------+\n",
      "|origin|dest|qa_origin_dest|\n",
      "+------+----+--------------+\n",
      "|   SEA| LAX|            FO|\n",
      "|   SEA| HNL|            FO|\n",
      "|   SEA| SFO|            FO|\n",
      "|   PDX| SJC|            FO|\n",
      "|   SEA| BUR|            FO|\n",
      "|   PDX| DEN|            FO|\n",
      "|   PDX| OAK|            FO|\n",
      "|   SEA| SFO|            FO|\n",
      "|   SEA| SAN|            FO|\n",
      "|   SEA| ORD|            FO|\n",
      "|   SEA| LAX|            FO|\n",
      "|   SEA| PHX|            FO|\n",
      "|   SEA| LAS|            FO|\n",
      "|   SEA| ANC|            FO|\n",
      "|   SEA| SFO|            FO|\n",
      "|   PDX| SFO|            FO|\n",
      "|   SEA| SMF|            FO|\n",
      "|   SEA| MDW|            FO|\n",
      "|   SEA| BOS|            FO|\n",
      "|   PDX| BUR|            FO|\n",
      "+------+----+--------------+\n",
      "only showing top 20 rows\n",
      "\n"
     ]
    }
   ],
   "source": [
    "f8.select(f8.origin, f8.dest, f8.qa_origin_dest)\\\n",
    "    .filter(f8.qa_origin_dest.isNotNull())\\\n",
    "    .show()"
   ]
  },
  {
   "cell_type": "markdown",
   "metadata": {},
   "source": [
    "### Pergunta 9"
   ]
  },
  {
   "cell_type": "code",
   "execution_count": 123,
   "metadata": {},
   "outputs": [],
   "source": [
    "f9 = f8.withColumn('qa_air_time', \n",
    "                  when((f8.air_time == '') | \n",
    "                       (f8.air_time == \" \") | \n",
    "                       (f8.air_time.isNull()), 'M')\n",
    "                  .when(~f8.air_time.between(20, 500), 'I'))"
   ]
  },
  {
   "cell_type": "code",
   "execution_count": 124,
   "metadata": {
    "scrolled": true
   },
   "outputs": [
    {
     "name": "stdout",
     "output_type": "stream",
     "text": [
      "+--------+-----------+\n",
      "|air_time|qa_air_time|\n",
      "+--------+-----------+\n",
      "|    null|          M|\n",
      "|    null|          M|\n",
      "|    null|          M|\n",
      "|    null|          M|\n",
      "|    null|          M|\n",
      "|    null|          M|\n",
      "|    null|          M|\n",
      "|    null|          M|\n",
      "|    null|          M|\n",
      "|    null|          M|\n",
      "|    null|          M|\n",
      "|    null|          M|\n",
      "|    null|          M|\n",
      "|    null|          M|\n",
      "|    null|          M|\n",
      "|    null|          M|\n",
      "|    null|          M|\n",
      "|    null|          M|\n",
      "|    null|          M|\n",
      "|    null|          M|\n",
      "+--------+-----------+\n",
      "only showing top 20 rows\n",
      "\n"
     ]
    }
   ],
   "source": [
    "f9.select(f9.air_time, f9.qa_air_time)\\\n",
    "    .filter(f9.qa_air_time.isNotNull())\\\n",
    "    .show()"
   ]
  },
  {
   "cell_type": "markdown",
   "metadata": {},
   "source": [
    "### Pergunta 10"
   ]
  },
  {
   "cell_type": "code",
   "execution_count": 125,
   "metadata": {},
   "outputs": [],
   "source": [
    "f10 = f9.withColumn('qa_distance',\n",
    "                   when((f9.distance == '') | \n",
    "                        (f9.distance == ' ') | \n",
    "                        (f9.distance.isNull()), 'M')\n",
    "                   .when(~f9.distance.between(50, 3000), 'I'))"
   ]
  },
  {
   "cell_type": "code",
   "execution_count": 126,
   "metadata": {
    "scrolled": true
   },
   "outputs": [
    {
     "name": "stdout",
     "output_type": "stream",
     "text": [
      "+--------+-----------+\n",
      "|distance|qa_distance|\n",
      "+--------+-----------+\n",
      "+--------+-----------+\n",
      "\n"
     ]
    }
   ],
   "source": [
    "f10.select(f10.distance, f10.qa_distance)\\\n",
    "    .filter(f10.qa_distance.isNotNull())\\\n",
    "    .show()"
   ]
  },
  {
   "cell_type": "markdown",
   "metadata": {},
   "source": [
    "### Pergunta 11"
   ]
  },
  {
   "cell_type": "code",
   "execution_count": 127,
   "metadata": {},
   "outputs": [],
   "source": [
    "f11 = f10.withColumn('qa_distance_airtime',\n",
    "                    when((f10.distance == '') | \n",
    "                         (f10.distance == ' ') | \n",
    "                         (f10.distance.isNull()) |\n",
    "                         (f10.air_time == '') | \n",
    "                         (f10.air_time == ' ') | \n",
    "                         (f10.air_time.isNull()), 'M')\n",
    "                    .when(f10.air_time >= (f10.distance * 0.1 + 30), 'TL')\n",
    "                    .when(f10.air_time <= (f10.distance * 0.1 + 10), 'TS')\n",
    "                    .otherwise('TR'))"
   ]
  },
  {
   "cell_type": "code",
   "execution_count": 128,
   "metadata": {
    "scrolled": false
   },
   "outputs": [
    {
     "name": "stdout",
     "output_type": "stream",
     "text": [
      "+--------+--------+-------------------+\n",
      "|distance|air_time|qa_distance_airtime|\n",
      "+--------+--------+-------------------+\n",
      "|     954|     132|                 TL|\n",
      "|    2677|     360|                 TL|\n",
      "|     679|     111|                 TL|\n",
      "|     569|      83|                 TR|\n",
      "|     937|     127|                 TL|\n",
      "|     991|     121|                 TR|\n",
      "|     543|      90|                 TL|\n",
      "|     679|      98|                 TL|\n",
      "|    1050|     135|                 TL|\n",
      "|    1721|     198|                 TR|\n",
      "|     954|     130|                 TL|\n",
      "|    1107|     154|                 TL|\n",
      "|     867|     127|                 TL|\n",
      "|    1448|     183|                 TL|\n",
      "|     679|     129|                 TL|\n",
      "|     550|      90|                 TL|\n",
      "|     605|      76|                 TR|\n",
      "|    1733|     216|                 TL|\n",
      "|    2496|     290|                 TL|\n",
      "|     817|     111|                 TR|\n",
      "+--------+--------+-------------------+\n",
      "only showing top 20 rows\n",
      "\n"
     ]
    }
   ],
   "source": [
    "f11.select(f11.distance, f11.air_time, f11.qa_distance_airtime)\\\n",
    "    .show()"
   ]
  },
  {
   "cell_type": "markdown",
   "metadata": {},
   "source": [
    "# Salvando em parquet"
   ]
  },
  {
   "cell_type": "code",
   "execution_count": 129,
   "metadata": {},
   "outputs": [],
   "source": [
    "f11.write.parquet(\n",
    "path = '../data/flights',\n",
    "mode = 'overwrite'\n",
    ")"
   ]
  },
  {
   "cell_type": "markdown",
   "metadata": {},
   "source": [
    "# Abrindo parquet"
   ]
  },
  {
   "cell_type": "code",
   "execution_count": 130,
   "metadata": {},
   "outputs": [],
   "source": [
    "flights_parquet = spark.read.parquet('../data/flights')"
   ]
  },
  {
   "cell_type": "code",
   "execution_count": 131,
   "metadata": {},
   "outputs": [
    {
     "data": {
      "text/html": [
       "<div>\n",
       "<style scoped>\n",
       "    .dataframe tbody tr th:only-of-type {\n",
       "        vertical-align: middle;\n",
       "    }\n",
       "\n",
       "    .dataframe tbody tr th {\n",
       "        vertical-align: top;\n",
       "    }\n",
       "\n",
       "    .dataframe thead th {\n",
       "        text-align: right;\n",
       "    }\n",
       "</style>\n",
       "<table border=\"1\" class=\"dataframe\">\n",
       "  <thead>\n",
       "    <tr style=\"text-align: right;\">\n",
       "      <th></th>\n",
       "      <th>year</th>\n",
       "      <th>month</th>\n",
       "      <th>day</th>\n",
       "      <th>dep_time</th>\n",
       "      <th>dep_delay</th>\n",
       "      <th>arr_time</th>\n",
       "      <th>arr_delay</th>\n",
       "      <th>carrier</th>\n",
       "      <th>tailnum</th>\n",
       "      <th>flight</th>\n",
       "      <th>...</th>\n",
       "      <th>qa_hour_minute</th>\n",
       "      <th>qa_dep_arr_time</th>\n",
       "      <th>qa_dep_arr_delay</th>\n",
       "      <th>qa_carrier</th>\n",
       "      <th>qa_tailnum</th>\n",
       "      <th>qa_flight</th>\n",
       "      <th>qa_origin_dest</th>\n",
       "      <th>qa_air_time</th>\n",
       "      <th>qa_distance</th>\n",
       "      <th>qa_distance_airtime</th>\n",
       "    </tr>\n",
       "  </thead>\n",
       "  <tbody>\n",
       "    <tr>\n",
       "      <th>0</th>\n",
       "      <td>2014</td>\n",
       "      <td>12</td>\n",
       "      <td>8</td>\n",
       "      <td>658</td>\n",
       "      <td>-7.0</td>\n",
       "      <td>935</td>\n",
       "      <td>-5.0</td>\n",
       "      <td>VX</td>\n",
       "      <td>N846VA</td>\n",
       "      <td>1780</td>\n",
       "      <td>...</td>\n",
       "      <td>None</td>\n",
       "      <td>None</td>\n",
       "      <td>None</td>\n",
       "      <td>F</td>\n",
       "      <td>None</td>\n",
       "      <td>None</td>\n",
       "      <td>FO</td>\n",
       "      <td>None</td>\n",
       "      <td>None</td>\n",
       "      <td>TL</td>\n",
       "    </tr>\n",
       "    <tr>\n",
       "      <th>1</th>\n",
       "      <td>2014</td>\n",
       "      <td>1</td>\n",
       "      <td>22</td>\n",
       "      <td>1040</td>\n",
       "      <td>5.0</td>\n",
       "      <td>1505</td>\n",
       "      <td>5.0</td>\n",
       "      <td>AS</td>\n",
       "      <td>N559AS</td>\n",
       "      <td>851</td>\n",
       "      <td>...</td>\n",
       "      <td>None</td>\n",
       "      <td>None</td>\n",
       "      <td>None</td>\n",
       "      <td>F</td>\n",
       "      <td>None</td>\n",
       "      <td>F</td>\n",
       "      <td>FO</td>\n",
       "      <td>None</td>\n",
       "      <td>None</td>\n",
       "      <td>TL</td>\n",
       "    </tr>\n",
       "    <tr>\n",
       "      <th>2</th>\n",
       "      <td>2014</td>\n",
       "      <td>3</td>\n",
       "      <td>9</td>\n",
       "      <td>1443</td>\n",
       "      <td>-2.0</td>\n",
       "      <td>1652</td>\n",
       "      <td>2.0</td>\n",
       "      <td>VX</td>\n",
       "      <td>N847VA</td>\n",
       "      <td>755</td>\n",
       "      <td>...</td>\n",
       "      <td>None</td>\n",
       "      <td>None</td>\n",
       "      <td>None</td>\n",
       "      <td>F</td>\n",
       "      <td>None</td>\n",
       "      <td>F</td>\n",
       "      <td>FO</td>\n",
       "      <td>None</td>\n",
       "      <td>None</td>\n",
       "      <td>TL</td>\n",
       "    </tr>\n",
       "    <tr>\n",
       "      <th>3</th>\n",
       "      <td>2014</td>\n",
       "      <td>4</td>\n",
       "      <td>9</td>\n",
       "      <td>1705</td>\n",
       "      <td>45.0</td>\n",
       "      <td>1839</td>\n",
       "      <td>34.0</td>\n",
       "      <td>WN</td>\n",
       "      <td>N360SW</td>\n",
       "      <td>344</td>\n",
       "      <td>...</td>\n",
       "      <td>None</td>\n",
       "      <td>None</td>\n",
       "      <td>None</td>\n",
       "      <td>F</td>\n",
       "      <td>None</td>\n",
       "      <td>F</td>\n",
       "      <td>FO</td>\n",
       "      <td>None</td>\n",
       "      <td>None</td>\n",
       "      <td>TR</td>\n",
       "    </tr>\n",
       "    <tr>\n",
       "      <th>4</th>\n",
       "      <td>2014</td>\n",
       "      <td>3</td>\n",
       "      <td>9</td>\n",
       "      <td>754</td>\n",
       "      <td>-1.0</td>\n",
       "      <td>1015</td>\n",
       "      <td>1.0</td>\n",
       "      <td>AS</td>\n",
       "      <td>N612AS</td>\n",
       "      <td>522</td>\n",
       "      <td>...</td>\n",
       "      <td>None</td>\n",
       "      <td>None</td>\n",
       "      <td>None</td>\n",
       "      <td>F</td>\n",
       "      <td>None</td>\n",
       "      <td>F</td>\n",
       "      <td>FO</td>\n",
       "      <td>None</td>\n",
       "      <td>None</td>\n",
       "      <td>TL</td>\n",
       "    </tr>\n",
       "    <tr>\n",
       "      <th>...</th>\n",
       "      <td>...</td>\n",
       "      <td>...</td>\n",
       "      <td>...</td>\n",
       "      <td>...</td>\n",
       "      <td>...</td>\n",
       "      <td>...</td>\n",
       "      <td>...</td>\n",
       "      <td>...</td>\n",
       "      <td>...</td>\n",
       "      <td>...</td>\n",
       "      <td>...</td>\n",
       "      <td>...</td>\n",
       "      <td>...</td>\n",
       "      <td>...</td>\n",
       "      <td>...</td>\n",
       "      <td>...</td>\n",
       "      <td>...</td>\n",
       "      <td>...</td>\n",
       "      <td>...</td>\n",
       "      <td>...</td>\n",
       "      <td>...</td>\n",
       "    </tr>\n",
       "    <tr>\n",
       "      <th>9995</th>\n",
       "      <td>2014</td>\n",
       "      <td>6</td>\n",
       "      <td>23</td>\n",
       "      <td>1806</td>\n",
       "      <td>-4.0</td>\n",
       "      <td>2104</td>\n",
       "      <td>-6.0</td>\n",
       "      <td>OO</td>\n",
       "      <td>N225AG</td>\n",
       "      <td>3458</td>\n",
       "      <td>...</td>\n",
       "      <td>None</td>\n",
       "      <td>None</td>\n",
       "      <td>None</td>\n",
       "      <td>F</td>\n",
       "      <td>None</td>\n",
       "      <td>None</td>\n",
       "      <td>FO</td>\n",
       "      <td>None</td>\n",
       "      <td>None</td>\n",
       "      <td>TR</td>\n",
       "    </tr>\n",
       "    <tr>\n",
       "      <th>9996</th>\n",
       "      <td>2014</td>\n",
       "      <td>8</td>\n",
       "      <td>31</td>\n",
       "      <td>2336</td>\n",
       "      <td>11.0</td>\n",
       "      <td>452</td>\n",
       "      <td>-13.0</td>\n",
       "      <td>AA</td>\n",
       "      <td>N3LEAA</td>\n",
       "      <td>1230</td>\n",
       "      <td>...</td>\n",
       "      <td>None</td>\n",
       "      <td>None</td>\n",
       "      <td>None</td>\n",
       "      <td>F</td>\n",
       "      <td>F</td>\n",
       "      <td>None</td>\n",
       "      <td>FO</td>\n",
       "      <td>None</td>\n",
       "      <td>None</td>\n",
       "      <td>TR</td>\n",
       "    </tr>\n",
       "    <tr>\n",
       "      <th>9997</th>\n",
       "      <td>2014</td>\n",
       "      <td>8</td>\n",
       "      <td>8</td>\n",
       "      <td>904</td>\n",
       "      <td>-1.0</td>\n",
       "      <td>1042</td>\n",
       "      <td>-5.0</td>\n",
       "      <td>AS</td>\n",
       "      <td>N523AS</td>\n",
       "      <td>360</td>\n",
       "      <td>...</td>\n",
       "      <td>None</td>\n",
       "      <td>None</td>\n",
       "      <td>None</td>\n",
       "      <td>F</td>\n",
       "      <td>None</td>\n",
       "      <td>F</td>\n",
       "      <td>FO</td>\n",
       "      <td>None</td>\n",
       "      <td>None</td>\n",
       "      <td>TR</td>\n",
       "    </tr>\n",
       "    <tr>\n",
       "      <th>9998</th>\n",
       "      <td>2014</td>\n",
       "      <td>8</td>\n",
       "      <td>29</td>\n",
       "      <td>1441</td>\n",
       "      <td>26.0</td>\n",
       "      <td>1820</td>\n",
       "      <td>10.0</td>\n",
       "      <td>WN</td>\n",
       "      <td>N8647A</td>\n",
       "      <td>2857</td>\n",
       "      <td>...</td>\n",
       "      <td>None</td>\n",
       "      <td>None</td>\n",
       "      <td>None</td>\n",
       "      <td>F</td>\n",
       "      <td>F</td>\n",
       "      <td>None</td>\n",
       "      <td>FO</td>\n",
       "      <td>None</td>\n",
       "      <td>None</td>\n",
       "      <td>TR</td>\n",
       "    </tr>\n",
       "    <tr>\n",
       "      <th>9999</th>\n",
       "      <td>2014</td>\n",
       "      <td>7</td>\n",
       "      <td>13</td>\n",
       "      <td>1702</td>\n",
       "      <td>-3.0</td>\n",
       "      <td>1950</td>\n",
       "      <td>-10.0</td>\n",
       "      <td>DL</td>\n",
       "      <td>N583NW</td>\n",
       "      <td>2237</td>\n",
       "      <td>...</td>\n",
       "      <td>None</td>\n",
       "      <td>None</td>\n",
       "      <td>None</td>\n",
       "      <td>F</td>\n",
       "      <td>None</td>\n",
       "      <td>None</td>\n",
       "      <td>FO</td>\n",
       "      <td>None</td>\n",
       "      <td>None</td>\n",
       "      <td>TL</td>\n",
       "    </tr>\n",
       "  </tbody>\n",
       "</table>\n",
       "<p>10000 rows × 27 columns</p>\n",
       "</div>"
      ],
      "text/plain": [
       "      year  month  day dep_time  dep_delay arr_time  arr_delay carrier  \\\n",
       "0     2014     12    8      658       -7.0      935       -5.0      VX   \n",
       "1     2014      1   22     1040        5.0     1505        5.0      AS   \n",
       "2     2014      3    9     1443       -2.0     1652        2.0      VX   \n",
       "3     2014      4    9     1705       45.0     1839       34.0      WN   \n",
       "4     2014      3    9      754       -1.0     1015        1.0      AS   \n",
       "...    ...    ...  ...      ...        ...      ...        ...     ...   \n",
       "9995  2014      6   23     1806       -4.0     2104       -6.0      OO   \n",
       "9996  2014      8   31     2336       11.0      452      -13.0      AA   \n",
       "9997  2014      8    8      904       -1.0     1042       -5.0      AS   \n",
       "9998  2014      8   29     1441       26.0     1820       10.0      WN   \n",
       "9999  2014      7   13     1702       -3.0     1950      -10.0      DL   \n",
       "\n",
       "     tailnum flight  ... qa_hour_minute qa_dep_arr_time  qa_dep_arr_delay  \\\n",
       "0     N846VA   1780  ...           None            None              None   \n",
       "1     N559AS    851  ...           None            None              None   \n",
       "2     N847VA    755  ...           None            None              None   \n",
       "3     N360SW    344  ...           None            None              None   \n",
       "4     N612AS    522  ...           None            None              None   \n",
       "...      ...    ...  ...            ...             ...               ...   \n",
       "9995  N225AG   3458  ...           None            None              None   \n",
       "9996  N3LEAA   1230  ...           None            None              None   \n",
       "9997  N523AS    360  ...           None            None              None   \n",
       "9998  N8647A   2857  ...           None            None              None   \n",
       "9999  N583NW   2237  ...           None            None              None   \n",
       "\n",
       "      qa_carrier  qa_tailnum  qa_flight qa_origin_dest qa_air_time  \\\n",
       "0              F        None       None             FO        None   \n",
       "1              F        None          F             FO        None   \n",
       "2              F        None          F             FO        None   \n",
       "3              F        None          F             FO        None   \n",
       "4              F        None          F             FO        None   \n",
       "...          ...         ...        ...            ...         ...   \n",
       "9995           F        None       None             FO        None   \n",
       "9996           F           F       None             FO        None   \n",
       "9997           F        None          F             FO        None   \n",
       "9998           F           F       None             FO        None   \n",
       "9999           F        None       None             FO        None   \n",
       "\n",
       "     qa_distance qa_distance_airtime  \n",
       "0           None                  TL  \n",
       "1           None                  TL  \n",
       "2           None                  TL  \n",
       "3           None                  TR  \n",
       "4           None                  TL  \n",
       "...          ...                 ...  \n",
       "9995        None                  TR  \n",
       "9996        None                  TR  \n",
       "9997        None                  TR  \n",
       "9998        None                  TR  \n",
       "9999        None                  TL  \n",
       "\n",
       "[10000 rows x 27 columns]"
      ]
     },
     "execution_count": 131,
     "metadata": {},
     "output_type": "execute_result"
    }
   ],
   "source": [
    "flights_parquet.toPandas()"
   ]
  },
  {
   "cell_type": "code",
   "execution_count": null,
   "metadata": {},
   "outputs": [],
   "source": []
  }
 ],
 "metadata": {
  "kernelspec": {
   "display_name": "Python 3 (ipykernel)",
   "language": "python",
   "name": "python3"
  },
  "language_info": {
   "codemirror_mode": {
    "name": "ipython",
    "version": 3
   },
   "file_extension": ".py",
   "mimetype": "text/x-python",
   "name": "python",
   "nbconvert_exporter": "python",
   "pygments_lexer": "ipython3",
   "version": "3.9.7"
  }
 },
 "nbformat": 4,
 "nbformat_minor": 4
}
